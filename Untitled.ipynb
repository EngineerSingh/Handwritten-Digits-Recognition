{
 "cells": [
  {
   "cell_type": "code",
   "execution_count": 6,
   "metadata": {},
   "outputs": [],
   "source": [
    "from tkinter import Tk, Label, Entry, Button\n",
    "from tkinter import messagebox\n",
    "\n",
    "def get_text():\n",
    "    return txt.get()\n",
    "def get():\n",
    "    return 1\n",
    "def clicked():\n",
    "    messagebox.showinfo('Label', get())\n",
    "def exit():\n",
    "    res = messagebox.askyesno('Exit','Are you Sure')\n",
    "    if res:\n",
    "        window.destroy()\n",
    "window = Tk()\n",
    " \n",
    "window.title(\"Handwritten Character Recognition\")\n",
    "#window.config(width=1080//2, height= 720//2, bg=\"white\")\n",
    "window.geometry('1080x720')\n",
    "lbl = Label(window, text=\"Hello\", font=(\"Arial Bold\", 50))\n",
    "lbl.grid(column=0, row=0)\n",
    "txt = Entry(window,width=10)\n",
    "txt.focus()\n",
    "\n",
    "txt.grid(column=3, row=0)\n",
    "btn = Button(window, text=\"Exit\", bg=\"orange\", fg=\"red\",command=exit)\n",
    "btn.grid(column=1, row=1)\n",
    "btn = Button(window, text=\"Perdict Label\", bg=\"orange\", fg=\"red\",command=clicked)\n",
    "btn.grid(column=2, row=1)\n",
    "window.mainloop()"
   ]
  }
 ],
 "metadata": {
  "kernelspec": {
   "display_name": "Python 3",
   "language": "python",
   "name": "python3"
  }
 },
 "nbformat": 4,
 "nbformat_minor": 2
}
